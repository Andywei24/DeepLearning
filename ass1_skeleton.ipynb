{
  "cells": [
    {
      "cell_type": "markdown",
      "metadata": {
        "id": "view-in-github",
        "colab_type": "text"
      },
      "source": [
        "<a href=\"https://colab.research.google.com/github/Andywei24/DeepLearning/blob/Zoe%2Ftask2/ass1_skeleton.ipynb\" target=\"_parent\"><img src=\"https://colab.research.google.com/assets/colab-badge.svg\" alt=\"Open In Colab\"/></a>"
      ]
    },
    {
      "cell_type": "markdown",
      "metadata": {
        "id": "0EQTYmjcqSIB"
      },
      "source": [
        "# Assignment 1 2AMM10 2023-2024\n",
        "\n",
        "## Group: [Fill in your group name]\n",
        "### Member 1: [Fill in your name]\n",
        "### Member 2: [Fill in your name]\n",
        "### Member 3: [Fill in your name]"
      ]
    },
    {
      "cell_type": "code",
      "execution_count": null,
      "metadata": {
        "id": "qb2cPrmmqSID"
      },
      "outputs": [],
      "source": [
        "import os\n",
        "import pandas as pd\n",
        "import torch\n",
        "from torch.utils.data import Dataset\n",
        "from matplotlib import pyplot as plt\n",
        "from PIL import Image\n",
        "import numpy as np\n",
        "from torchvision import transforms\n",
        "import kagglehub\n",
        "import torchvision.transforms as transforms\n",
        "\n",
        "\n",
        "# add additonal imports here\n",
        "class FashionDataset(Dataset):\n",
        "    def __init__(self, csv_file, img_dir,column_class=\"articleTypeId\", transform=None):\n",
        "        \"\"\"\n",
        "        Args:\n",
        "            csv_file (str): Path to the CSV file with labels.\n",
        "            img_dir (str): Directory with all the images.\n",
        "            transform (callable, optional): Optional transform to be applied on a sample.\n",
        "        \"\"\"\n",
        "        self.df = pd.read_csv(csv_file)  # load CSV file\n",
        "        self.img_dir = img_dir  # image folder path\n",
        "        self.transform = transform  # image transformations\n",
        "        self.targets = list(self.df[column_class].values)\n",
        "\n",
        "\n",
        "    def __len__(self):\n",
        "        return len(self.targets)\n",
        "\n",
        "    def __getitem__(self, idx):\n",
        "        img_name = os.path.join(self.img_dir, f\"{self.df.loc[idx,'imageId']}.jpg\")  # Get image filename\n",
        "        image = Image.open(img_name).convert(\"RGB\")  # Load image\n",
        "\n",
        "        if self.transform:\n",
        "            image = self.transform(image)  # Apply transformations\n",
        "\n",
        "        return image, self.targets[idx]"
      ]
    },
    {
      "cell_type": "markdown",
      "metadata": {
        "id": "sSmNTo-cqSIF"
      },
      "source": [
        "Download data with kagglehub"
      ]
    },
    {
      "cell_type": "code",
      "source": [
        "## For colab\n",
        "from google.colab import drive\n",
        "drive.mount('/content/drive')\n",
        "dataset_dir = \"/content/drive/MyDrive/ColabNotebooks/dataset\"\n"
      ],
      "metadata": {
        "colab": {
          "base_uri": "https://localhost:8080/"
        },
        "id": "RZNpA57Ksai0",
        "outputId": "1e15b3c1-62c4-4e86-b27e-75d1f1a5817e"
      },
      "execution_count": null,
      "outputs": [
        {
          "output_type": "stream",
          "name": "stdout",
          "text": [
            "Drive already mounted at /content/drive; to attempt to forcibly remount, call drive.mount(\"/content/drive\", force_remount=True).\n"
          ]
        }
      ]
    },
    {
      "cell_type": "code",
      "execution_count": null,
      "metadata": {
        "id": "FEbztPq7qSIF"
      },
      "outputs": [],
      "source": [
        "dataset_path = kagglehub.dataset_download(\"paramaggarwal/fashion-product-images-small\")\n",
        "img_dir = os.path.join(dataset_path,\"images\")"
      ]
    },
    {
      "cell_type": "markdown",
      "metadata": {
        "id": "dBDK1WE-qSIG"
      },
      "source": [
        "The different datasets can be loaded using the class `FashionDataset` which is a custon PyTorch dataset (see [Datasets & DataLoaders](https://pytorch.org/tutorials/beginner/basics/data_tutorial.html) for more information). Below an example of how to use the `FashionDataset` constructor as well as some visualizations. Please note that you may have to adapt the arguments to match the strucucture of your working directory."
      ]
    },
    {
      "cell_type": "code",
      "execution_count": null,
      "metadata": {
        "id": "ECX6YGtvqSIG"
      },
      "outputs": [],
      "source": [
        "dataset = FashionDataset(\"/content/drive/MyDrive/ColabNotebooks/dataset/train.csv\",img_dir)"
      ]
    },
    {
      "cell_type": "code",
      "execution_count": null,
      "metadata": {
        "colab": {
          "base_uri": "https://localhost:8080/",
          "height": 206
        },
        "id": "qT-1Q6iJqSIH",
        "outputId": "4d54bd2c-ca81-466d-da1a-b897ee3ee976"
      },
      "outputs": [
        {
          "output_type": "execute_result",
          "data": {
            "text/plain": [
              "   imageId articleTypeName categoryName  articleTypeId  categoryId\n",
              "0    35180       Backpacks         Bags             15           2\n",
              "1    33585         Tshirts      Topwear              0           0\n",
              "2     9464          Shirts      Topwear              1           0\n",
              "3     8194          Shirts      Topwear              1           0\n",
              "4    42231            Tops      Topwear              6           0"
            ],
            "text/html": [
              "\n",
              "  <div id=\"df-4236136e-c1b5-4e01-af3a-eb33d02155e5\" class=\"colab-df-container\">\n",
              "    <div>\n",
              "<style scoped>\n",
              "    .dataframe tbody tr th:only-of-type {\n",
              "        vertical-align: middle;\n",
              "    }\n",
              "\n",
              "    .dataframe tbody tr th {\n",
              "        vertical-align: top;\n",
              "    }\n",
              "\n",
              "    .dataframe thead th {\n",
              "        text-align: right;\n",
              "    }\n",
              "</style>\n",
              "<table border=\"1\" class=\"dataframe\">\n",
              "  <thead>\n",
              "    <tr style=\"text-align: right;\">\n",
              "      <th></th>\n",
              "      <th>imageId</th>\n",
              "      <th>articleTypeName</th>\n",
              "      <th>categoryName</th>\n",
              "      <th>articleTypeId</th>\n",
              "      <th>categoryId</th>\n",
              "    </tr>\n",
              "  </thead>\n",
              "  <tbody>\n",
              "    <tr>\n",
              "      <th>0</th>\n",
              "      <td>35180</td>\n",
              "      <td>Backpacks</td>\n",
              "      <td>Bags</td>\n",
              "      <td>15</td>\n",
              "      <td>2</td>\n",
              "    </tr>\n",
              "    <tr>\n",
              "      <th>1</th>\n",
              "      <td>33585</td>\n",
              "      <td>Tshirts</td>\n",
              "      <td>Topwear</td>\n",
              "      <td>0</td>\n",
              "      <td>0</td>\n",
              "    </tr>\n",
              "    <tr>\n",
              "      <th>2</th>\n",
              "      <td>9464</td>\n",
              "      <td>Shirts</td>\n",
              "      <td>Topwear</td>\n",
              "      <td>1</td>\n",
              "      <td>0</td>\n",
              "    </tr>\n",
              "    <tr>\n",
              "      <th>3</th>\n",
              "      <td>8194</td>\n",
              "      <td>Shirts</td>\n",
              "      <td>Topwear</td>\n",
              "      <td>1</td>\n",
              "      <td>0</td>\n",
              "    </tr>\n",
              "    <tr>\n",
              "      <th>4</th>\n",
              "      <td>42231</td>\n",
              "      <td>Tops</td>\n",
              "      <td>Topwear</td>\n",
              "      <td>6</td>\n",
              "      <td>0</td>\n",
              "    </tr>\n",
              "  </tbody>\n",
              "</table>\n",
              "</div>\n",
              "    <div class=\"colab-df-buttons\">\n",
              "\n",
              "  <div class=\"colab-df-container\">\n",
              "    <button class=\"colab-df-convert\" onclick=\"convertToInteractive('df-4236136e-c1b5-4e01-af3a-eb33d02155e5')\"\n",
              "            title=\"Convert this dataframe to an interactive table.\"\n",
              "            style=\"display:none;\">\n",
              "\n",
              "  <svg xmlns=\"http://www.w3.org/2000/svg\" height=\"24px\" viewBox=\"0 -960 960 960\">\n",
              "    <path d=\"M120-120v-720h720v720H120Zm60-500h600v-160H180v160Zm220 220h160v-160H400v160Zm0 220h160v-160H400v160ZM180-400h160v-160H180v160Zm440 0h160v-160H620v160ZM180-180h160v-160H180v160Zm440 0h160v-160H620v160Z\"/>\n",
              "  </svg>\n",
              "    </button>\n",
              "\n",
              "  <style>\n",
              "    .colab-df-container {\n",
              "      display:flex;\n",
              "      gap: 12px;\n",
              "    }\n",
              "\n",
              "    .colab-df-convert {\n",
              "      background-color: #E8F0FE;\n",
              "      border: none;\n",
              "      border-radius: 50%;\n",
              "      cursor: pointer;\n",
              "      display: none;\n",
              "      fill: #1967D2;\n",
              "      height: 32px;\n",
              "      padding: 0 0 0 0;\n",
              "      width: 32px;\n",
              "    }\n",
              "\n",
              "    .colab-df-convert:hover {\n",
              "      background-color: #E2EBFA;\n",
              "      box-shadow: 0px 1px 2px rgba(60, 64, 67, 0.3), 0px 1px 3px 1px rgba(60, 64, 67, 0.15);\n",
              "      fill: #174EA6;\n",
              "    }\n",
              "\n",
              "    .colab-df-buttons div {\n",
              "      margin-bottom: 4px;\n",
              "    }\n",
              "\n",
              "    [theme=dark] .colab-df-convert {\n",
              "      background-color: #3B4455;\n",
              "      fill: #D2E3FC;\n",
              "    }\n",
              "\n",
              "    [theme=dark] .colab-df-convert:hover {\n",
              "      background-color: #434B5C;\n",
              "      box-shadow: 0px 1px 3px 1px rgba(0, 0, 0, 0.15);\n",
              "      filter: drop-shadow(0px 1px 2px rgba(0, 0, 0, 0.3));\n",
              "      fill: #FFFFFF;\n",
              "    }\n",
              "  </style>\n",
              "\n",
              "    <script>\n",
              "      const buttonEl =\n",
              "        document.querySelector('#df-4236136e-c1b5-4e01-af3a-eb33d02155e5 button.colab-df-convert');\n",
              "      buttonEl.style.display =\n",
              "        google.colab.kernel.accessAllowed ? 'block' : 'none';\n",
              "\n",
              "      async function convertToInteractive(key) {\n",
              "        const element = document.querySelector('#df-4236136e-c1b5-4e01-af3a-eb33d02155e5');\n",
              "        const dataTable =\n",
              "          await google.colab.kernel.invokeFunction('convertToInteractive',\n",
              "                                                    [key], {});\n",
              "        if (!dataTable) return;\n",
              "\n",
              "        const docLinkHtml = 'Like what you see? Visit the ' +\n",
              "          '<a target=\"_blank\" href=https://colab.research.google.com/notebooks/data_table.ipynb>data table notebook</a>'\n",
              "          + ' to learn more about interactive tables.';\n",
              "        element.innerHTML = '';\n",
              "        dataTable['output_type'] = 'display_data';\n",
              "        await google.colab.output.renderOutput(dataTable, element);\n",
              "        const docLink = document.createElement('div');\n",
              "        docLink.innerHTML = docLinkHtml;\n",
              "        element.appendChild(docLink);\n",
              "      }\n",
              "    </script>\n",
              "  </div>\n",
              "\n",
              "\n",
              "    <div id=\"df-af716a74-1a80-46b8-b4fb-8b4ddbcf68de\">\n",
              "      <button class=\"colab-df-quickchart\" onclick=\"quickchart('df-af716a74-1a80-46b8-b4fb-8b4ddbcf68de')\"\n",
              "                title=\"Suggest charts\"\n",
              "                style=\"display:none;\">\n",
              "\n",
              "<svg xmlns=\"http://www.w3.org/2000/svg\" height=\"24px\"viewBox=\"0 0 24 24\"\n",
              "     width=\"24px\">\n",
              "    <g>\n",
              "        <path d=\"M19 3H5c-1.1 0-2 .9-2 2v14c0 1.1.9 2 2 2h14c1.1 0 2-.9 2-2V5c0-1.1-.9-2-2-2zM9 17H7v-7h2v7zm4 0h-2V7h2v10zm4 0h-2v-4h2v4z\"/>\n",
              "    </g>\n",
              "</svg>\n",
              "      </button>\n",
              "\n",
              "<style>\n",
              "  .colab-df-quickchart {\n",
              "      --bg-color: #E8F0FE;\n",
              "      --fill-color: #1967D2;\n",
              "      --hover-bg-color: #E2EBFA;\n",
              "      --hover-fill-color: #174EA6;\n",
              "      --disabled-fill-color: #AAA;\n",
              "      --disabled-bg-color: #DDD;\n",
              "  }\n",
              "\n",
              "  [theme=dark] .colab-df-quickchart {\n",
              "      --bg-color: #3B4455;\n",
              "      --fill-color: #D2E3FC;\n",
              "      --hover-bg-color: #434B5C;\n",
              "      --hover-fill-color: #FFFFFF;\n",
              "      --disabled-bg-color: #3B4455;\n",
              "      --disabled-fill-color: #666;\n",
              "  }\n",
              "\n",
              "  .colab-df-quickchart {\n",
              "    background-color: var(--bg-color);\n",
              "    border: none;\n",
              "    border-radius: 50%;\n",
              "    cursor: pointer;\n",
              "    display: none;\n",
              "    fill: var(--fill-color);\n",
              "    height: 32px;\n",
              "    padding: 0;\n",
              "    width: 32px;\n",
              "  }\n",
              "\n",
              "  .colab-df-quickchart:hover {\n",
              "    background-color: var(--hover-bg-color);\n",
              "    box-shadow: 0 1px 2px rgba(60, 64, 67, 0.3), 0 1px 3px 1px rgba(60, 64, 67, 0.15);\n",
              "    fill: var(--button-hover-fill-color);\n",
              "  }\n",
              "\n",
              "  .colab-df-quickchart-complete:disabled,\n",
              "  .colab-df-quickchart-complete:disabled:hover {\n",
              "    background-color: var(--disabled-bg-color);\n",
              "    fill: var(--disabled-fill-color);\n",
              "    box-shadow: none;\n",
              "  }\n",
              "\n",
              "  .colab-df-spinner {\n",
              "    border: 2px solid var(--fill-color);\n",
              "    border-color: transparent;\n",
              "    border-bottom-color: var(--fill-color);\n",
              "    animation:\n",
              "      spin 1s steps(1) infinite;\n",
              "  }\n",
              "\n",
              "  @keyframes spin {\n",
              "    0% {\n",
              "      border-color: transparent;\n",
              "      border-bottom-color: var(--fill-color);\n",
              "      border-left-color: var(--fill-color);\n",
              "    }\n",
              "    20% {\n",
              "      border-color: transparent;\n",
              "      border-left-color: var(--fill-color);\n",
              "      border-top-color: var(--fill-color);\n",
              "    }\n",
              "    30% {\n",
              "      border-color: transparent;\n",
              "      border-left-color: var(--fill-color);\n",
              "      border-top-color: var(--fill-color);\n",
              "      border-right-color: var(--fill-color);\n",
              "    }\n",
              "    40% {\n",
              "      border-color: transparent;\n",
              "      border-right-color: var(--fill-color);\n",
              "      border-top-color: var(--fill-color);\n",
              "    }\n",
              "    60% {\n",
              "      border-color: transparent;\n",
              "      border-right-color: var(--fill-color);\n",
              "    }\n",
              "    80% {\n",
              "      border-color: transparent;\n",
              "      border-right-color: var(--fill-color);\n",
              "      border-bottom-color: var(--fill-color);\n",
              "    }\n",
              "    90% {\n",
              "      border-color: transparent;\n",
              "      border-bottom-color: var(--fill-color);\n",
              "    }\n",
              "  }\n",
              "</style>\n",
              "\n",
              "      <script>\n",
              "        async function quickchart(key) {\n",
              "          const quickchartButtonEl =\n",
              "            document.querySelector('#' + key + ' button');\n",
              "          quickchartButtonEl.disabled = true;  // To prevent multiple clicks.\n",
              "          quickchartButtonEl.classList.add('colab-df-spinner');\n",
              "          try {\n",
              "            const charts = await google.colab.kernel.invokeFunction(\n",
              "                'suggestCharts', [key], {});\n",
              "          } catch (error) {\n",
              "            console.error('Error during call to suggestCharts:', error);\n",
              "          }\n",
              "          quickchartButtonEl.classList.remove('colab-df-spinner');\n",
              "          quickchartButtonEl.classList.add('colab-df-quickchart-complete');\n",
              "        }\n",
              "        (() => {\n",
              "          let quickchartButtonEl =\n",
              "            document.querySelector('#df-af716a74-1a80-46b8-b4fb-8b4ddbcf68de button');\n",
              "          quickchartButtonEl.style.display =\n",
              "            google.colab.kernel.accessAllowed ? 'block' : 'none';\n",
              "        })();\n",
              "      </script>\n",
              "    </div>\n",
              "\n",
              "    </div>\n",
              "  </div>\n"
            ],
            "application/vnd.google.colaboratory.intrinsic+json": {
              "type": "dataframe",
              "summary": "{\n  \"name\": \"dataset\",\n  \"rows\": 5,\n  \"fields\": [\n    {\n      \"column\": \"imageId\",\n      \"properties\": {\n        \"dtype\": \"number\",\n        \"std\": 15774,\n        \"min\": 8194,\n        \"max\": 42231,\n        \"num_unique_values\": 5,\n        \"samples\": [\n          33585,\n          42231,\n          9464\n        ],\n        \"semantic_type\": \"\",\n        \"description\": \"\"\n      }\n    },\n    {\n      \"column\": \"articleTypeName\",\n      \"properties\": {\n        \"dtype\": \"string\",\n        \"num_unique_values\": 4,\n        \"samples\": [\n          \"Tshirts\",\n          \"Tops\",\n          \"Backpacks\"\n        ],\n        \"semantic_type\": \"\",\n        \"description\": \"\"\n      }\n    },\n    {\n      \"column\": \"categoryName\",\n      \"properties\": {\n        \"dtype\": \"category\",\n        \"num_unique_values\": 2,\n        \"samples\": [\n          \"Topwear\",\n          \"Bags\"\n        ],\n        \"semantic_type\": \"\",\n        \"description\": \"\"\n      }\n    },\n    {\n      \"column\": \"articleTypeId\",\n      \"properties\": {\n        \"dtype\": \"number\",\n        \"std\": 6,\n        \"min\": 0,\n        \"max\": 15,\n        \"num_unique_values\": 4,\n        \"samples\": [\n          0,\n          6\n        ],\n        \"semantic_type\": \"\",\n        \"description\": \"\"\n      }\n    },\n    {\n      \"column\": \"categoryId\",\n      \"properties\": {\n        \"dtype\": \"number\",\n        \"std\": 0,\n        \"min\": 0,\n        \"max\": 2,\n        \"num_unique_values\": 2,\n        \"samples\": [\n          0,\n          2\n        ],\n        \"semantic_type\": \"\",\n        \"description\": \"\"\n      }\n    }\n  ]\n}"
            }
          },
          "metadata": {},
          "execution_count": 6
        }
      ],
      "source": [
        "dataset.df.head()"
      ]
    },
    {
      "cell_type": "code",
      "execution_count": null,
      "metadata": {
        "colab": {
          "base_uri": "https://localhost:8080/",
          "height": 1000
        },
        "id": "COLmBqX_qSII",
        "outputId": "8cd853ef-a73a-4b6a-fd92-03e0d108bd35"
      },
      "outputs": [
        {
          "output_type": "display_data",
          "data": {
            "text/plain": [
              "<Figure size 640x480 with 1 Axes>"
            ],
            "image/png": "[encoded data removed]"
          },
          "metadata": {}
        },
        {
          "output_type": "display_data",
          "data": {
            "text/plain": [
              "<Figure size 640x480 with 1 Axes>"
            ],
            "image/png": "[encoded data removed]"
          },
          "metadata": {}
        },
        {
          "output_type": "display_data",
          "data": {
            "text/plain": [
              "<Figure size 640x480 with 1 Axes>"
            ],
            "image/png": "[encoded data removed]"
          },
          "metadata": {}
        }
      ],
      "source": [
        "np.random.seed(42)\n",
        "random_indices = np.random.choice(len(dataset),3)\n",
        "\n",
        "for i in random_indices:\n",
        "    img, label = dataset[i]\n",
        "    plt.title(dataset.df.iloc[i][\"articleTypeName\"]+f\" ({label.item()})\")\n",
        "    plt.imshow(img)\n",
        "    plt.show()"
      ]
    },
    {
      "cell_type": "markdown",
      "metadata": {
        "id": "M1Praw7BqSIJ"
      },
      "source": [
        "## Loading different datasets"
      ]
    },
    {
      "cell_type": "code",
      "execution_count": null,
      "metadata": {
        "id": "3x0lylZrqSIJ"
      },
      "outputs": [],
      "source": [
        "transform = transforms.Compose([\n",
        "    transforms.Resize((224, 224)),\n",
        "    transforms.ToTensor(),\n",
        "    transforms.Normalize(mean=[0.485, 0.456, 0.406], std=[0.229, 0.224, 0.225])\n",
        "])\n",
        "# train_dataset = FashionDataset(\"dataset/train.csv\",img_dir,transform=train_transform)\n",
        "# main_test_dataset =  FashionDataset(\"dataset/main_test.csv\",img_dir,transform=transform)\n",
        "# new_test_dataset =  FashionDataset(\"dataset/new_test.csv\",img_dir,transform=transform)\n",
        "# main_support_dataset =  FashionDataset(\"dataset/main_support.csv\",img_dir,transform=transform)\n",
        "# new_support_dataset =  FashionDataset(\"dataset/new_support.csv\",img_dir,transform=transform)\n",
        "# merged_test_dataset =  FashionDataset(\"dataset/merged_test.csv\",img_dir,transform=transform) # merged corresponds to main+new\n",
        "# merged_support_dataset =  FashionDataset(\"dataset/merged_support.csv\",img_dir,transform=transform)\n",
        "\n",
        "# # datasets with categories\n",
        "# main_test_dataset_cat =  FashionDataset(\"dataset/main_test.csv\",img_dir,column_class=\"categoryId\",transform=transform)\n",
        "# main_support_dataset_cat =  FashionDataset(\"dataset/main_support.csv\",img_dir,column_class=\"categoryId\",transform=transform)\n",
        "train_dataset = FashionDataset(\"/content/drive/MyDrive/ColabNotebooks/dataset/train.csv\",img_dir,transform=transform)\n",
        "main_test_dataset =  FashionDataset(\"/content/drive/MyDrive/ColabNotebooks/dataset/main_test.csv\",img_dir,transform=transform)\n",
        "new_test_dataset =  FashionDataset(\"/content/drive/MyDrive/ColabNotebooks/dataset/new_test.csv\",img_dir,transform=transform)\n",
        "main_support_dataset =  FashionDataset(\"/content/drive/MyDrive/ColabNotebooks/dataset/main_support.csv\",img_dir,transform=transform)\n",
        "new_support_dataset =  FashionDataset(\"/content/drive/MyDrive/ColabNotebooks/dataset/new_support.csv\",img_dir,transform=transform)\n",
        "merged_test_dataset =  FashionDataset(\"/content/drive/MyDrive/ColabNotebooks/dataset/merged_test.csv\",img_dir,transform=transform) # merged corresponds to main+new\n",
        "merged_support_dataset =  FashionDataset(\"/content/drive/MyDrive/ColabNotebooks/dataset/merged_support.csv\",img_dir,transform=transform)\n",
        "\n",
        "# datasets with categories\n",
        "main_test_dataset_cat =  FashionDataset(\"/content/drive/MyDrive/ColabNotebooks/dataset/main_test.csv\",img_dir,column_class=\"categoryId\",transform=transform)\n",
        "main_support_dataset_cat =  FashionDataset(\"/content/drive/MyDrive/ColabNotebooks/dataset/main_support.csv\",img_dir,column_class=\"categoryId\",transform=transform)\n",
        "\n",
        "\n",
        "label_id_to_label_name = {i: train_dataset.df[train_dataset.df[\"articleTypeId\"]==i][\"articleTypeName\"].iloc[0] for i in range(39)}\n",
        "label_id_to_label_name.update({i: new_test_dataset.df[new_test_dataset.df[\"articleTypeId\"]==i][\"articleTypeName\"].iloc[0] for i in range(39,39+30)})"
      ]
    },
    {
      "cell_type": "markdown",
      "metadata": {
        "id": "fNwuWuQ7qSIK"
      },
      "source": [
        "## Task 1"
      ]
    },
    {
      "cell_type": "code",
      "execution_count": null,
      "metadata": {
        "id": "NDQg3zfCqSIK"
      },
      "outputs": [],
      "source": [
        "# your solution\n",
        "# train dataset: train_dataset\n",
        "# test datset: main_test_dataset"
      ]
    },
    {
      "cell_type": "code",
      "execution_count": null,
      "metadata": {
        "id": "HeDar74RqSIK"
      },
      "outputs": [],
      "source": [
        "# define network archietecture\n",
        "\n",
        "class FashionNet(torch.nn.Module):\n",
        "    def __init__(self, num_classes):\n",
        "        super(FashionNet, self).__init__()\n",
        "\n",
        "        # convolutional layers\n",
        "        self.conv1 = torch.nn.Conv2d(3, 32, kernel_size = 3, padding = 1)\n",
        "        self.conv2 = torch.nn.Conv2d(32, 64, kernel_size = 3, padding = 1)\n",
        "        self.conv3 = torch.nn.Conv2d(64, 128, kernel_size = 3, padding = 1)\n",
        "\n",
        "        # batch normalization layers\n",
        "        self.bn1 = torch.nn.BatchNorm2d(32)\n",
        "        self.bn2 = torch.nn.BatchNorm2d(64)\n",
        "        self.bn3 = torch.nn.BatchNorm2d(128)\n",
        "\n",
        "        # pooling layer\n",
        "        self.pool = torch.nn.MaxPool2d(2, 2)\n",
        "\n",
        "        # dropout layer\n",
        "        self.dropout = torch.nn.Dropout(0.25)\n",
        "\n",
        "        # fully conneted layer\n",
        "        self.fc1 = torch.nn.Linear(128 * 28 * 28, 512)\n",
        "        self.fc2 = torch.nn.Linear(512, num_classes)\n",
        "\n",
        "        # activation function\n",
        "        self.relu = torch.nn.ReLU()\n",
        "\n",
        "    def forward(self, x):\n",
        "        # First convolutional block\n",
        "        x = self.conv1(x)\n",
        "        x = self.bn1(x)\n",
        "        x = self.relu(x)\n",
        "        x = self.pool(x)\n",
        "\n",
        "        # Second convolutional block\n",
        "        x = self.conv2(x)\n",
        "        x = self.bn2(x)\n",
        "        x = self.relu(x)\n",
        "        x = self.pool(x)\n",
        "\n",
        "        # Third convolutional block\n",
        "        x = self.conv3(x)\n",
        "        x = self.bn3(x)\n",
        "        x = self.relu(x)\n",
        "        x = self.pool(x)\n",
        "\n",
        "        # Flatten the output for the fully connected layers\n",
        "        x = x.view(x.size(0), -1)\n",
        "\n",
        "        # Fully connected layers with dropout\n",
        "        x = self.dropout(x)\n",
        "        x = self.fc1(x)\n",
        "        x = self.relu(x)\n",
        "        x = self.dropout(x)\n",
        "        x = self.fc2(x)\n",
        "\n",
        "        return x\n",
        "\n"
      ]
    },
    {
      "cell_type": "markdown",
      "metadata": {
        "id": "gPv0NC0xqSIK"
      },
      "source": [
        "Training"
      ]
    },
    {
      "cell_type": "code",
      "execution_count": null,
      "metadata": {
        "id": "n__sJT7jqSIL"
      },
      "outputs": [],
      "source": [
        "from torch.utils.data import DataLoader\n",
        "import torch.nn as nn\n",
        "import torch.optim as optim\n",
        "from tqdm import tqdm\n",
        "from torch.amp import autocast, GradScaler\n",
        "\n",
        "# hyperparameters\n",
        "batch_size = 32\n",
        "num_epochs = 10\n",
        "learning_rate = 1e-4\n",
        "weight_decay = 1e-4\n",
        "\n",
        "# create data loader\n",
        "train_loader = DataLoader(train_dataset, batch_size = batch_size, shuffle = True)\n",
        "test_loader = DataLoader(main_test_dataset, batch_size = batch_size, shuffle = False)\n",
        "\n",
        "num_classes = len(train_dataset.df['articleTypeId'].unique())\n",
        "\n",
        "# initialize the model\n",
        "model = FashionNet(num_classes)\n",
        "device = torch.device(\"cuda\" if torch.cuda.is_available() else \"cpu\")\n",
        "model = model.to(device)\n",
        "\n",
        "# Improved training function with AMP\n",
        "def train_model(model, train_loader, test_loader, device, epochs=10):\n",
        "    model = model.to(device)\n",
        "\n",
        "    # Loss function and optimizer\n",
        "    criterion = nn.CrossEntropyLoss(label_smoothing=0.1)\n",
        "    optimizer = optim.AdamW(model.parameters(), lr=learning_rate, weight_decay=weight_decay)\n",
        "\n",
        "    # Learning rate scheduler\n",
        "    scheduler = optim.lr_scheduler.ReduceLROnPlateau(optimizer, mode='max', factor=0.1, patience=3)\n",
        "\n",
        "    # Initialize gradient scaler for AMP\n",
        "    scaler = GradScaler()\n",
        "\n",
        "    # Track best model\n",
        "    best_test_acc = 0.0\n",
        "\n",
        "    print(f\"Starting training for {epochs} epochs...\")\n",
        "\n",
        "    for epoch in range(epochs):\n",
        "        # Training phase\n",
        "        model.train()\n",
        "        train_loss = 0.0\n",
        "        train_correct = 0\n",
        "        train_total = 0\n",
        "\n",
        "        train_pbar = tqdm(train_loader, desc=f'Epoch {epoch+1}/{epochs} [Train]')\n",
        "\n",
        "        for inputs, labels in train_pbar:\n",
        "            inputs, labels = inputs.to(device, non_blocking=True), labels.to(device, non_blocking=True)\n",
        "\n",
        "            optimizer.zero_grad()\n",
        "\n",
        "            # Use AMP autocast\n",
        "            with autocast(device_type='cuda', enabled=torch.cuda.is_available()):\n",
        "                outputs = model(inputs)\n",
        "                loss = criterion(outputs, labels)\n",
        "\n",
        "            # Scale gradients and perform backward pass\n",
        "            scaler.scale(loss).backward()\n",
        "\n",
        "            # Update weights with scaled gradients\n",
        "            scaler.step(optimizer)\n",
        "            scaler.update()\n",
        "\n",
        "            train_loss += loss.item()\n",
        "            _, predicted = outputs.max(1)\n",
        "            train_total += labels.size(0)\n",
        "            train_correct += predicted.eq(labels).sum().item()\n",
        "\n",
        "            train_pbar.set_postfix({\n",
        "                'loss': f'{loss.item():.4f}',\n",
        "                'acc': f'{(train_correct/train_total):.4f}'\n",
        "            })\n",
        "\n",
        "        train_loss = train_loss / len(train_loader)\n",
        "        train_acc = train_correct / train_total\n",
        "\n",
        "        # Test phase\n",
        "        model.eval()\n",
        "        test_loss = 0.0\n",
        "        test_correct = 0\n",
        "        test_total = 0\n",
        "\n",
        "        test_pbar = tqdm(test_loader, desc=f'Epoch {epoch+1}/{epochs} [Test]')\n",
        "\n",
        "        with torch.no_grad():\n",
        "            for inputs, labels in test_pbar:\n",
        "                inputs, labels = inputs.to(device, non_blocking=True), labels.to(device, non_blocking=True)\n",
        "\n",
        "                outputs = model(inputs)\n",
        "                loss = criterion(outputs, labels)\n",
        "\n",
        "                test_loss += loss.item()\n",
        "                _, predicted = outputs.max(1)\n",
        "                test_total += labels.size(0)\n",
        "                test_correct += predicted.eq(labels).sum().item()\n",
        "\n",
        "                test_pbar.set_postfix({\n",
        "                    'loss': f'{loss.item():.4f}',\n",
        "                    'acc': f'{(test_correct/test_total):.4f}'\n",
        "                })\n",
        "\n",
        "        test_loss = test_loss / len(test_loader)\n",
        "        test_acc = test_correct / test_total\n",
        "\n",
        "        # Update learning rate based on test accuracy\n",
        "        scheduler.step(test_acc)\n",
        "\n",
        "        # Print results\n",
        "        print(f'Epoch {epoch+1}/{epochs}:')\n",
        "        print(f'Train Loss: {train_loss:.4f}, Train Acc: {train_acc:.4f}')\n",
        "        print(f'Test Loss: {test_loss:.4f}, Test Acc: {test_acc:.4f}')\n",
        "\n",
        "        # Clean GPU cache\n",
        "        if torch.cuda.is_available():\n",
        "            torch.cuda.empty_cache()\n",
        "\n",
        "        # Save best model\n",
        "        if test_acc > best_test_acc:\n",
        "            best_test_acc = test_acc\n",
        "            # Save the model if needed\n",
        "            torch.save(model.state_dict(), '/content/drive/MyDrive/ColabNotebooks/models/model_task1.pth')\n",
        "            print(f\"New best test accuracy: {test_acc:.4f}\")\n",
        "\n",
        "    print(f\"Training completed! Best test accuracy: {best_test_acc:.4f}\")\n",
        "    return model"
      ]
    },
    {
      "cell_type": "code",
      "execution_count": null,
      "metadata": {
        "colab": {
          "base_uri": "https://localhost:8080/"
        },
        "id": "GI2SsJtbqSIL",
        "outputId": "9952cbfc-a2cf-43d5-f74e-77a98c2ce714"
      },
      "outputs": [
        {
          "output_type": "stream",
          "name": "stdout",
          "text": [
            "Using device: cuda\n"
          ]
        }
      ],
      "source": [
        "device = torch.device(\"cuda\" if torch.cuda.is_available() else \"cpu\")\n",
        "print(f\"Using device: {device}\")"
      ]
    },
    {
      "cell_type": "code",
      "execution_count": null,
      "metadata": {
        "colab": {
          "base_uri": "https://localhost:8080/"
        },
        "id": "_F9bIynqqSIM",
        "outputId": "688a8a87-a4dc-4317-88ec-e47795839048"
      },
      "outputs": [
        {
          "output_type": "stream",
          "name": "stdout",
          "text": [
            "Using device: cuda\n",
            "Starting training for 10 epochs...\n"
          ]
        },
        {
          "output_type": "stream",
          "name": "stderr",
          "text": [
            "Epoch 1/10 [Train]: 100%|██████████| 1123/1123 [10:01<00:00,  1.87it/s, loss=1.4057, acc=0.6236]\n",
            "Epoch 1/10 [Test]: 100%|██████████| 63/63 [00:21<00:00,  2.95it/s, loss=1.2910, acc=0.7737]\n"
          ]
        },
        {
          "output_type": "stream",
          "name": "stdout",
          "text": [
            "Epoch 1/10:\n",
            "Train Loss: 1.8087, Train Acc: 0.6236\n",
            "Test Loss: 1.3335, Test Acc: 0.7737\n",
            "New best test accuracy: 0.7737\n"
          ]
        },
        {
          "output_type": "stream",
          "name": "stderr",
          "text": [
            "Epoch 2/10 [Train]: 100%|██████████| 1123/1123 [05:33<00:00,  3.37it/s, loss=1.1879, acc=0.7517]\n",
            "Epoch 2/10 [Test]: 100%|██████████| 63/63 [00:06<00:00,  9.45it/s, loss=1.0892, acc=0.8132]\n"
          ]
        },
        {
          "output_type": "stream",
          "name": "stdout",
          "text": [
            "Epoch 2/10:\n",
            "Train Loss: 1.4235, Train Acc: 0.7517\n",
            "Test Loss: 1.2553, Test Acc: 0.8132\n",
            "New best test accuracy: 0.8132\n"
          ]
        },
        {
          "output_type": "stream",
          "name": "stderr",
          "text": [
            "Epoch 3/10 [Train]: 100%|██████████| 1123/1123 [05:21<00:00,  3.49it/s, loss=1.3987, acc=0.7833]\n",
            "Epoch 3/10 [Test]: 100%|██████████| 63/63 [00:06<00:00,  9.97it/s, loss=1.1157, acc=0.8112]\n"
          ]
        },
        {
          "output_type": "stream",
          "name": "stdout",
          "text": [
            "Epoch 3/10:\n",
            "Train Loss: 1.3314, Train Acc: 0.7833\n",
            "Test Loss: 1.2142, Test Acc: 0.8112\n"
          ]
        },
        {
          "output_type": "stream",
          "name": "stderr",
          "text": [
            "Epoch 4/10 [Train]: 100%|██████████| 1123/1123 [05:29<00:00,  3.41it/s, loss=1.0796, acc=0.8063]\n",
            "Epoch 4/10 [Test]: 100%|██████████| 63/63 [00:06<00:00,  9.33it/s, loss=0.9163, acc=0.8312]\n"
          ]
        },
        {
          "output_type": "stream",
          "name": "stdout",
          "text": [
            "Epoch 4/10:\n",
            "Train Loss: 1.2780, Train Acc: 0.8063\n",
            "Test Loss: 1.1535, Test Acc: 0.8312\n",
            "New best test accuracy: 0.8312\n"
          ]
        },
        {
          "output_type": "stream",
          "name": "stderr",
          "text": [
            "Epoch 5/10 [Train]: 100%|██████████| 1123/1123 [05:24<00:00,  3.46it/s, loss=1.1698, acc=0.8199]\n",
            "Epoch 5/10 [Test]: 100%|██████████| 63/63 [00:06<00:00, 10.36it/s, loss=0.8782, acc=0.8443]\n"
          ]
        },
        {
          "output_type": "stream",
          "name": "stdout",
          "text": [
            "Epoch 5/10:\n",
            "Train Loss: 1.2377, Train Acc: 0.8199\n",
            "Test Loss: 1.1178, Test Acc: 0.8443\n",
            "New best test accuracy: 0.8443\n"
          ]
        },
        {
          "output_type": "stream",
          "name": "stderr",
          "text": [
            "Epoch 6/10 [Train]: 100%|██████████| 1123/1123 [05:23<00:00,  3.47it/s, loss=0.9638, acc=0.8269]\n",
            "Epoch 6/10 [Test]: 100%|██████████| 63/63 [00:06<00:00,  9.30it/s, loss=0.8846, acc=0.8438]\n"
          ]
        },
        {
          "output_type": "stream",
          "name": "stdout",
          "text": [
            "Epoch 6/10:\n",
            "Train Loss: 1.2125, Train Acc: 0.8269\n",
            "Test Loss: 1.1249, Test Acc: 0.8438\n"
          ]
        },
        {
          "output_type": "stream",
          "name": "stderr",
          "text": [
            "Epoch 7/10 [Train]: 100%|██████████| 1123/1123 [05:28<00:00,  3.42it/s, loss=1.1977, acc=0.8341]\n",
            "Epoch 7/10 [Test]: 100%|██████████| 63/63 [00:06<00:00, 10.37it/s, loss=0.8318, acc=0.8593]\n"
          ]
        },
        {
          "output_type": "stream",
          "name": "stdout",
          "text": [
            "Epoch 7/10:\n",
            "Train Loss: 1.1913, Train Acc: 0.8341\n",
            "Test Loss: 1.0736, Test Acc: 0.8593\n",
            "New best test accuracy: 0.8593\n"
          ]
        },
        {
          "output_type": "stream",
          "name": "stderr",
          "text": [
            "Epoch 8/10 [Train]: 100%|██████████| 1123/1123 [05:24<00:00,  3.46it/s, loss=1.1425, acc=0.8421]\n",
            "Epoch 8/10 [Test]: 100%|██████████| 63/63 [00:06<00:00,  9.34it/s, loss=0.8653, acc=0.8683]\n"
          ]
        },
        {
          "output_type": "stream",
          "name": "stdout",
          "text": [
            "Epoch 8/10:\n",
            "Train Loss: 1.1670, Train Acc: 0.8421\n",
            "Test Loss: 1.0623, Test Acc: 0.8683\n",
            "New best test accuracy: 0.8683\n"
          ]
        },
        {
          "output_type": "stream",
          "name": "stderr",
          "text": [
            "Epoch 9/10 [Train]: 100%|██████████| 1123/1123 [05:28<00:00,  3.42it/s, loss=1.0448, acc=0.8499]\n",
            "Epoch 9/10 [Test]: 100%|██████████| 63/63 [00:07<00:00,  8.48it/s, loss=0.8075, acc=0.8733]\n"
          ]
        },
        {
          "output_type": "stream",
          "name": "stdout",
          "text": [
            "Epoch 9/10:\n",
            "Train Loss: 1.1533, Train Acc: 0.8499\n",
            "Test Loss: 1.0540, Test Acc: 0.8733\n",
            "New best test accuracy: 0.8733\n"
          ]
        },
        {
          "output_type": "stream",
          "name": "stderr",
          "text": [
            "Epoch 10/10 [Train]: 100%|██████████| 1123/1123 [05:25<00:00,  3.45it/s, loss=1.2711, acc=0.8547]\n",
            "Epoch 10/10 [Test]: 100%|██████████| 63/63 [00:06<00:00,  9.14it/s, loss=0.8314, acc=0.8723]"
          ]
        },
        {
          "output_type": "stream",
          "name": "stdout",
          "text": [
            "Epoch 10/10:\n",
            "Train Loss: 1.1377, Train Acc: 0.8547\n",
            "Test Loss: 1.0548, Test Acc: 0.8723\n",
            "Training completed! Best test accuracy: 0.8733\n"
          ]
        },
        {
          "output_type": "stream",
          "name": "stderr",
          "text": [
            "\n"
          ]
        }
      ],
      "source": [
        "print(f\"Using device: {device}\")\n",
        "model = train_model(model, train_loader, test_loader, device)"
      ]
    },
    {
      "cell_type": "code",
      "execution_count": null,
      "metadata": {
        "id": "K2e4YnxUqSIM",
        "outputId": "992e369b-8b35-4d1f-cd0d-1a37d96e6ed6",
        "colab": {
          "base_uri": "https://localhost:8080/"
        }
      },
      "outputs": [
        {
          "output_type": "stream",
          "name": "stdout",
          "text": [
            "Accuracy: 87.23%\n",
            "Balanced Accuracy: 79.92%\n"
          ]
        }
      ],
      "source": [
        "from sklearn.metrics import balanced_accuracy_score\n",
        "def evaluate_model(model, test_loader, device):\n",
        "    model.eval()  # Set model to evaluation mode\n",
        "    correct = 0\n",
        "    total = 0\n",
        "    all_preds = []\n",
        "    all_labels = []\n",
        "\n",
        "    with torch.no_grad():  # No need to track gradients\n",
        "        for images, labels in test_loader:\n",
        "            images, labels = images.to(device), labels.to(device)\n",
        "            outputs = model(images)\n",
        "            _, predicted = torch.max(outputs.data, 1)\n",
        "\n",
        "            total += labels.size(0)\n",
        "            correct += (predicted == labels).sum().item()\n",
        "            all_preds.extend(predicted.cpu().numpy())\n",
        "            all_labels.extend(labels.cpu().numpy())\n",
        "\n",
        "    # Regular accuracy\n",
        "    accuracy = 100 * correct / total\n",
        "    # Balanced accuracy\n",
        "    balanced_acc = 100 * balanced_accuracy_score(all_labels, all_preds)\n",
        "\n",
        "    return accuracy, balanced_acc\n",
        "\n",
        "# After training your model\n",
        "acc, bal_acc = evaluate_model(model, test_loader, device)\n",
        "print(f'Accuracy: {acc:.2f}%')\n",
        "print(f'Balanced Accuracy: {bal_acc:.2f}%')"
      ]
    },
    {
      "cell_type": "markdown",
      "metadata": {
        "id": "OWH8r24JqSIM"
      },
      "source": [
        "## Task 2"
      ]
    },
    {
      "cell_type": "code",
      "execution_count": null,
      "metadata": {
        "id": "8pgzCgyLqSIM"
      },
      "outputs": [],
      "source": [
        "# your solution\n",
        "# train dataset: train_dataset\n",
        "# test and support dataset: see scenarios table"
      ]
    },
    {
      "cell_type": "code",
      "source": [
        "import torch.nn.functional as F\n",
        "triplet_loss = nn.TripletMarginLoss(margin=1.0, p=2)"
      ],
      "metadata": {
        "id": "5H7jKcRRBQRN"
      },
      "execution_count": null,
      "outputs": []
    },
    {
      "cell_type": "code",
      "execution_count": null,
      "metadata": {
        "id": "ElbOe4pRqSIM"
      },
      "outputs": [],
      "source": [
        "class FashionNet(torch.nn.Module):\n",
        "    def __init__(self, embedding_dim=256):\n",
        "        super(FashionNet, self).__init__()\n",
        "        self.conv1 = nn.Conv2d(3, 32, kernel_size=3, padding=1)\n",
        "        self.conv2 = nn.Conv2d(32, 64, kernel_size=3, padding=1)\n",
        "        self.conv3 = nn.Conv2d(64, 128, kernel_size=3, padding=1)\n",
        "\n",
        "        self.bn1 = nn.BatchNorm2d(32)\n",
        "        self.bn2 = nn.BatchNorm2d(64)\n",
        "        self.bn3 = nn.BatchNorm2d(128)\n",
        "        self.pool = nn.MaxPool2d(2, 2)\n",
        "        self.dropout = nn.Dropout(0.25)\n",
        "\n",
        "        self.embedding_dim = embedding_dim\n",
        "        self.fc1 = nn.Linear(128 * 28 * 28, 512)\n",
        "        self.fc2 = nn.Linear(512, embedding_dim)  # Now outputs a feature vector\n",
        "\n",
        "        self.relu = nn.ReLU()\n",
        "\n",
        "    def forward(self, x):\n",
        "        x = self.pool(self.relu(self.bn1(self.conv1(x))))\n",
        "        x = self.pool(self.relu(self.bn2(self.conv2(x))))\n",
        "        x = self.pool(self.relu(self.bn3(self.conv3(x))))\n",
        "        x = x.view(x.size(0), -1)\n",
        "        x = self.dropout(self.relu(self.fc1(x)))\n",
        "        embedding = self.fc2(x)  # Output feature vector\n",
        "        return embedding\n"
      ]
    },
    {
      "cell_type": "code",
      "source": [
        "def train_triplet_model(model, triplet_loader, device, epochs=10):\n",
        "    model = model.to(device)\n",
        "    optimizer = torch.optim.Adam(model.parameters(), lr=1e-4, weight_decay=1e-4)\n",
        "    criterion = nn.TripletMarginLoss(margin=1.0, p=2)\n",
        "\n",
        "    for epoch in range(epochs):\n",
        "        model.train()\n",
        "        running_loss = 0.0\n",
        "\n",
        "        for anchor, positive, negative in tqdm(triplet_loader, desc=f\"Epoch {epoch+1}/{epochs}\"):\n",
        "            anchor, positive, negative = anchor.to(device), positive.to(device), negative.to(device)\n",
        "\n",
        "            optimizer.zero_grad()\n",
        "\n",
        "            emb_a = model(anchor)\n",
        "            emb_p = model(positive)\n",
        "            emb_n = model(negative)\n",
        "\n",
        "            loss = criterion(emb_a, emb_p, emb_n)\n",
        "            loss.backward()\n",
        "            optimizer.step()\n",
        "\n",
        "            running_loss += loss.item()\n",
        "\n",
        "        print(f\"Epoch {epoch+1}, Loss: {running_loss/len(triplet_loader):.4f}\")\n",
        "    torch.save(model.state_dict(), '/content/drive/MyDrive/ColabNotebooks/models/model_task2.pth')\n"
      ],
      "metadata": {
        "id": "zc4s7z6cHRXV"
      },
      "execution_count": null,
      "outputs": []
    },
    {
      "cell_type": "code",
      "execution_count": null,
      "metadata": {
        "id": "76jw4aLJqSIM"
      },
      "outputs": [],
      "source": [
        "from torch.utils.data import Dataset\n",
        "import random\n",
        "from collections import defaultdict\n",
        "class TripletFashionDataset(Dataset):\n",
        "    def __init__(self, base_dataset):\n",
        "        self.base_dataset = base_dataset\n",
        "        self.labels = base_dataset.targets\n",
        "        self.label_to_indices = self._build_index()\n",
        "\n",
        "    def _build_index(self):\n",
        "        label_to_indices = defaultdict(list)\n",
        "        for idx, label in enumerate(self.labels):\n",
        "            label_to_indices[label].append(idx)\n",
        "        return label_to_indices\n",
        "\n",
        "    def __getitem__(self, index):\n",
        "        anchor_img, anchor_label = self.base_dataset[index]\n",
        "\n",
        "        # Positive sample\n",
        "        positive_index = index\n",
        "        while positive_index == index:\n",
        "            positive_index = random.choice(self.label_to_indices[anchor_label])\n",
        "        positive_img, _ = self.base_dataset[positive_index]\n",
        "\n",
        "        # Negative sample\n",
        "        negative_label = anchor_label\n",
        "        while negative_label == anchor_label:\n",
        "            negative_label = random.choice(list(self.label_to_indices.keys()))\n",
        "        negative_index = random.choice(self.label_to_indices[negative_label])\n",
        "        negative_img, _ = self.base_dataset[negative_index]\n",
        "\n",
        "        return anchor_img, positive_img, negative_img\n",
        "\n",
        "    def __len__(self):\n",
        "        return len(self.base_dataset)"
      ]
    },
    {
      "cell_type": "code",
      "source": [
        "# Use your existing dataset\n",
        "triplet_dataset = TripletFashionDataset(train_dataset)\n",
        "triplet_loader = DataLoader(triplet_dataset, batch_size=32, shuffle=True)\n",
        "\n",
        "# Train the model with triplet loss\n",
        "train_triplet_model(model, triplet_loader, device, epochs=10)\n"
      ],
      "metadata": {
        "colab": {
          "base_uri": "https://localhost:8080/"
        },
        "id": "Ab_vqoosE1lc",
        "outputId": "9b395bd8-a3e9-4349-9b1d-fb1e853d486d"
      },
      "execution_count": null,
      "outputs": [
        {
          "output_type": "stream",
          "name": "stderr",
          "text": [
            "Epoch 1/10: 100%|██████████| 1123/1123 [09:49<00:00,  1.91it/s]\n"
          ]
        },
        {
          "output_type": "stream",
          "name": "stdout",
          "text": [
            "Epoch 1, Loss: 0.2966\n"
          ]
        },
        {
          "output_type": "stream",
          "name": "stderr",
          "text": [
            "Epoch 2/10: 100%|██████████| 1123/1123 [08:18<00:00,  2.25it/s]\n"
          ]
        },
        {
          "output_type": "stream",
          "name": "stdout",
          "text": [
            "Epoch 2, Loss: 0.1694\n"
          ]
        },
        {
          "output_type": "stream",
          "name": "stderr",
          "text": [
            "Epoch 3/10: 100%|██████████| 1123/1123 [08:18<00:00,  2.25it/s]\n"
          ]
        },
        {
          "output_type": "stream",
          "name": "stdout",
          "text": [
            "Epoch 3, Loss: 0.1143\n"
          ]
        },
        {
          "output_type": "stream",
          "name": "stderr",
          "text": [
            "Epoch 4/10: 100%|██████████| 1123/1123 [08:26<00:00,  2.22it/s]\n"
          ]
        },
        {
          "output_type": "stream",
          "name": "stdout",
          "text": [
            "Epoch 4, Loss: 0.0994\n"
          ]
        },
        {
          "output_type": "stream",
          "name": "stderr",
          "text": [
            "Epoch 5/10: 100%|██████████| 1123/1123 [08:22<00:00,  2.23it/s]\n"
          ]
        },
        {
          "output_type": "stream",
          "name": "stdout",
          "text": [
            "Epoch 5, Loss: 0.0842\n"
          ]
        },
        {
          "output_type": "stream",
          "name": "stderr",
          "text": [
            "Epoch 6/10: 100%|██████████| 1123/1123 [08:19<00:00,  2.25it/s]\n"
          ]
        },
        {
          "output_type": "stream",
          "name": "stdout",
          "text": [
            "Epoch 6, Loss: 0.0675\n"
          ]
        },
        {
          "output_type": "stream",
          "name": "stderr",
          "text": [
            "Epoch 7/10: 100%|██████████| 1123/1123 [08:17<00:00,  2.26it/s]\n"
          ]
        },
        {
          "output_type": "stream",
          "name": "stdout",
          "text": [
            "Epoch 7, Loss: 0.0690\n"
          ]
        },
        {
          "output_type": "stream",
          "name": "stderr",
          "text": [
            "Epoch 8/10: 100%|██████████| 1123/1123 [08:19<00:00,  2.25it/s]\n"
          ]
        },
        {
          "output_type": "stream",
          "name": "stdout",
          "text": [
            "Epoch 8, Loss: 0.0584\n"
          ]
        },
        {
          "output_type": "stream",
          "name": "stderr",
          "text": [
            "Epoch 9/10: 100%|██████████| 1123/1123 [08:17<00:00,  2.26it/s]\n"
          ]
        },
        {
          "output_type": "stream",
          "name": "stdout",
          "text": [
            "Epoch 9, Loss: 0.0545\n"
          ]
        },
        {
          "output_type": "stream",
          "name": "stderr",
          "text": [
            "Epoch 10/10: 100%|██████████| 1123/1123 [08:23<00:00,  2.23it/s]"
          ]
        },
        {
          "output_type": "stream",
          "name": "stdout",
          "text": [
            "Epoch 10, Loss: 0.0477\n"
          ]
        },
        {
          "output_type": "stream",
          "name": "stderr",
          "text": [
            "\n"
          ]
        }
      ]
    },
    {
      "cell_type": "code",
      "source": [
        "# Support Set Embedding\n",
        "def compute_embeddings(model, dataloader, device):\n",
        "    model.eval()\n",
        "    embeddings = []\n",
        "    labels = []\n",
        "\n",
        "    with torch.no_grad():\n",
        "        for inputs, targets in tqdm(dataloader, desc=\"Computing embeddings\"):\n",
        "            inputs = inputs.to(device)\n",
        "            outputs = model(inputs)\n",
        "            embeddings.append(outputs.cpu())\n",
        "            labels.extend(targets.cpu().numpy())\n",
        "\n",
        "    embeddings = torch.cat(embeddings).numpy()  # [N, D]\n",
        "    return embeddings, labels\n"
      ],
      "metadata": {
        "id": "6TC4KKsOfiGh"
      },
      "execution_count": null,
      "outputs": []
    },
    {
      "cell_type": "code",
      "source": [
        "# KNN\n",
        "from sklearn.metrics import accuracy_score, balanced_accuracy_score\n",
        "from sklearn.neighbors import KNeighborsClassifier\n",
        "\n",
        "def classify_knn(support_embeddings, support_labels, test_embeddings, test_labels, k=1):\n",
        "    knn = KNeighborsClassifier(n_neighbors=k, metric='euclidean')\n",
        "    knn.fit(support_embeddings, support_labels)\n",
        "    preds = knn.predict(test_embeddings)\n",
        "\n",
        "    acc = accuracy_score(test_labels, preds) * 100\n",
        "    bal_acc = balanced_accuracy_score(test_labels, preds) * 100\n",
        "    return acc, bal_acc\n"
      ],
      "metadata": {
        "id": "M7tvveKzgArN"
      },
      "execution_count": null,
      "outputs": []
    },
    {
      "cell_type": "code",
      "source": [
        "### Scenario 2\n",
        "support_loader = DataLoader(main_support_dataset, batch_size=64, shuffle=False)\n",
        "test_loader = DataLoader(main_test_dataset, batch_size=64, shuffle=False)\n",
        "support_embeddings, support_labels = compute_embeddings(model, support_loader, device)\n",
        "test_embeddings, test_labels = compute_embeddings(model, test_loader, device)\n",
        "\n",
        "###\n",
        "\n",
        "acc, bal_acc = classify_knn(support_embeddings, support_labels, test_embeddings, test_labels)\n",
        "\n",
        "print(f\"Test Accuracy: {acc:.2f}%, Balanced Accuracy: {bal_acc:.2f}%\")\n"
      ],
      "metadata": {
        "colab": {
          "base_uri": "https://localhost:8080/"
        },
        "id": "NNdLTp8AgNDY",
        "outputId": "a263ed62-60d3-40fa-b37b-a5da0f423d4f"
      },
      "execution_count": null,
      "outputs": [
        {
          "output_type": "stream",
          "name": "stderr",
          "text": [
            "Computing embeddings: 100%|██████████| 32/32 [00:06<00:00,  4.92it/s]\n",
            "Computing embeddings: 100%|██████████| 32/32 [00:08<00:00,  3.88it/s]"
          ]
        },
        {
          "output_type": "stream",
          "name": "stdout",
          "text": [
            "Test Accuracy: 70.26%, Balanced Accuracy: 61.51%\n"
          ]
        },
        {
          "output_type": "stream",
          "name": "stderr",
          "text": [
            "\n"
          ]
        }
      ]
    },
    {
      "cell_type": "code",
      "source": [
        "support_loader = DataLoader(new_support_dataset, batch_size=64, shuffle=False)\n",
        "test_loader = DataLoader(new_test_dataset, batch_size=64, shuffle=False)\n",
        "support_embeddings, support_labels = compute_embeddings(model, support_loader, device)\n",
        "test_embeddings, test_labels = compute_embeddings(model, test_loader, device)\n",
        "\n",
        "acc, bal_acc = classify_knn(support_embeddings, support_labels, test_embeddings, test_labels)\n",
        "print(f\"[Scenario 3] Accuracy: {acc:.2f}%, Balanced Accuracy: {bal_acc:.2f}%\")\n"
      ],
      "metadata": {
        "colab": {
          "base_uri": "https://localhost:8080/"
        },
        "id": "Qp0a18BViQg8",
        "outputId": "6386a03b-824b-4c05-8187-d816a31b2a17"
      },
      "execution_count": null,
      "outputs": [
        {
          "output_type": "stream",
          "name": "stderr",
          "text": [
            "Computing embeddings: 100%|██████████| 26/26 [00:05<00:00,  4.64it/s]\n",
            "Computing embeddings: 100%|██████████| 26/26 [00:05<00:00,  4.44it/s]\n"
          ]
        },
        {
          "output_type": "stream",
          "name": "stdout",
          "text": [
            "[Scenario 3] Accuracy: 70.30%, Balanced Accuracy: 69.73%\n"
          ]
        }
      ]
    },
    {
      "cell_type": "code",
      "source": [
        "support_loader = DataLoader(merged_support_dataset, batch_size=64, shuffle=False)\n",
        "test_loader = DataLoader(merged_test_dataset, batch_size=64, shuffle=False)\n",
        "support_embeddings, support_labels = compute_embeddings(model, support_loader, device)\n",
        "test_embeddings, test_labels = compute_embeddings(model, test_loader, device)\n",
        "acc, bal_acc = classify_knn(support_embeddings, support_labels, test_embeddings, test_labels)\n",
        "print(f\"[Scenario 4] Accuracy: {acc:.2f}%, Balanced Accuracy: {bal_acc:.2f}%\")\n"
      ],
      "metadata": {
        "colab": {
          "base_uri": "https://localhost:8080/"
        },
        "id": "8v6yFekEkMNS",
        "outputId": "c6fcdaa4-2537-44f5-c7c6-bb717f712004"
      },
      "execution_count": null,
      "outputs": [
        {
          "output_type": "stream",
          "name": "stderr",
          "text": [
            "Computing embeddings: 100%|██████████| 58/58 [00:13<00:00,  4.33it/s]\n",
            "Computing embeddings: 100%|██████████| 58/58 [00:12<00:00,  4.55it/s]\n"
          ]
        },
        {
          "output_type": "stream",
          "name": "stdout",
          "text": [
            "[Scenario 4] Accuracy: 61.69%, Balanced Accuracy: 55.40%\n"
          ]
        }
      ]
    },
    {
      "cell_type": "code",
      "source": [
        "####TEST FOR distribution\n",
        "import pandas as pd\n",
        "import matplotlib.pyplot as plt\n",
        "import seaborn as sns\n",
        "\n",
        "# Load the CSVs from your Google Drive path\n",
        "main_test_df = pd.read_csv(\"/content/drive/MyDrive/ColabNotebooks/dataset/main_test.csv\")\n",
        "new_test_df = pd.read_csv(\"/content/drive/MyDrive/ColabNotebooks/dataset/new_test.csv\")\n",
        "\n",
        "# Count articleTypeId distribution\n",
        "main_class_counts = main_test_df['articleTypeId'].value_counts().sort_index()\n",
        "new_class_counts = new_test_df['articleTypeId'].value_counts().sort_index()\n",
        "\n",
        "# Plot side-by-side comparison\n",
        "fig, axes = plt.subplots(1, 2, figsize=(18, 5), sharey=True)\n",
        "\n",
        "# Scenario 2\n",
        "sns.barplot(x=main_class_counts.index, y=main_class_counts.values, ax=axes[0], palette='Blues_d')\n",
        "axes[0].set_title(\"Scenario 2: Class Distribution (main_test)\")\n",
        "axes[0].set_xlabel(\"articleTypeId\")\n",
        "axes[0].set_ylabel(\"Sample Count\")\n",
        "axes[0].tick_params(axis='x', rotation=90)\n",
        "\n",
        "# Scenario 3\n",
        "sns.barplot(x=new_class_counts.index, y=new_class_counts.values, ax=axes[1], palette='Greens_d')\n",
        "axes[1].set_title(\"Scenario 3: Class Distribution (new_test)\")\n",
        "axes[1].set_xlabel(\"articleTypeId\")\n",
        "axes[1].tick_params(axis='x', rotation=90)\n",
        "\n",
        "plt.tight_layout()\n",
        "plt.show()\n"
      ],
      "metadata": {
        "colab": {
          "base_uri": "https://localhost:8080/",
          "height": 455
        },
        "id": "WXzeBmnsjb8g",
        "outputId": "b9fc5d5a-4943-491a-db5e-449bff320b5d"
      },
      "execution_count": null,
      "outputs": [
        {
          "output_type": "stream",
          "name": "stderr",
          "text": [
            "<ipython-input-34-25d8ecf55486>:18: FutureWarning: \n",
            "\n",
            "Passing `palette` without assigning `hue` is deprecated and will be removed in v0.14.0. Assign the `x` variable to `hue` and set `legend=False` for the same effect.\n",
            "\n",
            "  sns.barplot(x=main_class_counts.index, y=main_class_counts.values, ax=axes[0], palette='Blues_d')\n",
            "<ipython-input-34-25d8ecf55486>:25: FutureWarning: \n",
            "\n",
            "Passing `palette` without assigning `hue` is deprecated and will be removed in v0.14.0. Assign the `x` variable to `hue` and set `legend=False` for the same effect.\n",
            "\n",
            "  sns.barplot(x=new_class_counts.index, y=new_class_counts.values, ax=axes[1], palette='Greens_d')\n"
          ]
        },
        {
          "output_type": "display_data",
          "data": {
            "text/plain": [
              "<Figure size 1800x500 with 2 Axes>"
            ],
            "image/png": "[encoded data removed]"
          },
          "metadata": {}
        }
      ]
    },
    {
      "cell_type": "markdown",
      "metadata": {
        "id": "QcL8XSDsqSIM"
      },
      "source": [
        "## Task 3"
      ]
    },
    {
      "cell_type": "code",
      "execution_count": null,
      "metadata": {
        "id": "IcLcN5q7qSIN"
      },
      "outputs": [],
      "source": [
        "# your solution\n",
        "# test dataset: merged_test_dataset\n",
        "# support/catalog dataset: support_test_dataset"
      ]
    },
    {
      "cell_type": "markdown",
      "source": [],
      "metadata": {
        "id": "7sVYC5cpfK1v"
      }
    },
    {
      "cell_type": "code",
      "execution_count": null,
      "metadata": {
        "id": "V4mXH3oAqSIN"
      },
      "outputs": [],
      "source": []
    },
    {
      "cell_type": "code",
      "execution_count": null,
      "metadata": {
        "id": "o3OM7nQvqSIN"
      },
      "outputs": [],
      "source": []
    },
    {
      "cell_type": "markdown",
      "metadata": {
        "id": "nbhGqL-nqSIN"
      },
      "source": [
        "## Task 4"
      ]
    },
    {
      "cell_type": "code",
      "execution_count": null,
      "metadata": {
        "id": "ZyV4GuMIqSIN"
      },
      "outputs": [],
      "source": [
        "# your solution\n",
        "# datasets: first 10 classes of train_dataset and main_test_dataset"
      ]
    },
    {
      "cell_type": "code",
      "execution_count": null,
      "metadata": {
        "id": "MkOhX6jmqSIN"
      },
      "outputs": [],
      "source": []
    },
    {
      "cell_type": "code",
      "execution_count": null,
      "metadata": {
        "id": "vtM8aqopqSIN"
      },
      "outputs": [],
      "source": []
    }
  ],
  "metadata": {
    "kernelspec": {
      "display_name": "Python 3",
      "name": "python3"
    },
    "language_info": {
      "name": "python"
    },
    "colab": {
      "provenance": [],
      "gpuType": "T4",
      "toc_visible": true,
      "include_colab_link": true
    },
    "accelerator": "GPU"
  },
  "nbformat": 4,
  "nbformat_minor": 0
}